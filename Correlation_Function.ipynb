{
  "nbformat": 4,
  "nbformat_minor": 0,
  "metadata": {
    "colab": {
      "provenance": []
    },
    "kernelspec": {
      "name": "python3",
      "display_name": "Python 3"
    },
    "language_info": {
      "name": "python"
    }
  },
  "cells": [
    {
      "cell_type": "markdown",
      "source": [
        "# Función de Correlación"
      ],
      "metadata": {
        "id": "M2C2FDzaJCFk"
      }
    },
    {
      "cell_type": "markdown",
      "source": [
        " Buscaremos simular la función de correlación de segundo orden. Con 2 y 3 detectores, para probar el comportamiento de onda y partícula de un par de fotones."
      ],
      "metadata": {
        "id": "rlArLejNI4tG"
      }
    },
    {
      "cell_type": "code",
      "source": [
        "import numpy as np\n",
        "\n",
        "\n",
        "# Series\n",
        "N = 100000  # el número de fotones que proponemos en un segundo\n",
        "NQ = 10000  # número de pares de fotones\n",
        "NN = 200000  # número de particiones en un segundo\n",
        "nexp = 70  # Número de Experimentos\n",
        "\n",
        "# Inicializar arrays\n",
        "st = np.zeros(NN)\n",
        "sr = np.zeros(NN)\n",
        "si = np.zeros(NN)\n",
        "sit = np.zeros(NN)\n",
        "sir = np.zeros(NN)\n",
        "g2 = np.zeros(nexp)\n",
        "g3 = np.zeros(nexp)\n",
        "\n",
        "# Probabilidades\n",
        "ff = float(N) / float(NN)  # probabilidad de tener un fotón individual\n",
        "ffQ = float(NQ) / float(NN)  # probabilidad de tener un par\n",
        "\n",
        "g2p = 0.0\n",
        "g3p = 0.0\n",
        "\n",
        "for j in range(nexp):\n",
        "    #print(f'Experimento {j+1}')\n",
        "\n",
        "    # Series aleatorias transmitida y reflejada\n",
        "    st = np.random.rand(NN) <= ff\n",
        "    sr = np.random.rand(NN) <= ff\n",
        "\n",
        "    # Serie aleatoria testigo, que también funciona como señal\n",
        "    si = np.random.rand(NN) <= ffQ\n",
        "    unosi = np.sum(si)\n",
        "\n",
        "    # Sumamos las series testigo y transmitida y reflejada\n",
        "    dh = np.random.rand(NN)\n",
        "    sit = si * (dh >= 0.5)\n",
        "    sir = si * (dh < 0.5)\n",
        "\n",
        "    # Actualizar st y sr\n",
        "    st += sit\n",
        "    sr += sir\n",
        "    unost = np.sum(st != 0)\n",
        "    unosr = np.sum(sr != 0)\n",
        "\n",
        "    # Número de coincidencias dobles\n",
        "    nc = np.sum(st * sr != 0)\n",
        "\n",
        "    # Coincidencias triples\n",
        "    nc123 = np.sum(si * st * sr != 0)\n",
        "\n",
        "    # Revisamos las coincidencias dobles (sin productos cruzados)\n",
        "    g2[j] = (float(nc) / (unost * unosr)) * float(NN)\n",
        "    # Coincidencias triples ajustadas\n",
        "    g3[j] = (float(nc123) / (float(unosi))) * (NN / (unost * unosr))\n",
        "\n",
        "    g2p += g2[j] / float(nexp)\n",
        "    g3p += g3[j] / float(nexp)\n",
        "\n",
        "    with open('serieG', 'a') as f:\n",
        "        f.write(f'{j+1} {g2[j]} {g3[j]}\\n')\n",
        "\n",
        "# Cálculo de las desviaciones estándar\n",
        "v2 = np.sum((g2p - g2) ** 2) / float(nexp) ** 2\n",
        "v3 = np.sum((g3p - g3) ** 2) / float(nexp) ** 2\n",
        "\n",
        "sigma2 = np.sqrt(v2)\n",
        "sigma3 = np.sqrt(v3)\n",
        "\n",
        "print('Promedios', g2p, g3p, sigma2, sigma3)\n"
      ],
      "metadata": {
        "colab": {
          "base_uri": "https://localhost:8080/"
        },
        "id": "RX5rFfTzIuKy",
        "outputId": "1ff0a541-5db5-4afc-f817-7564a46a32fc"
      },
      "execution_count": 2,
      "outputs": [
        {
          "output_type": "stream",
          "name": "stdout",
          "text": [
            "Promedios 0.99902856253416 9.513701513736502e-06 0.00023866378096866963 1.071752397573871e-08\n"
          ]
        }
      ]
    },
    {
      "cell_type": "markdown",
      "source": [],
      "metadata": {
        "id": "BqM1D2vJI20-"
      }
    }
  ]
}